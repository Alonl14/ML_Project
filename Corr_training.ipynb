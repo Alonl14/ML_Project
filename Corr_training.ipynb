{
 "cells": [
  {
   "cell_type": "code",
   "execution_count": null,
   "outputs": [],
   "source": [
    "import torch\n",
    "import torch.nn as nn\n",
    "import torch.optim as optim\n",
    "from matplotlib import pyplot as plt\n",
    "from torch.utils.data import DataLoader, Dataset\n",
    "import numpy as np\n",
    "from torch_cubic_spline_grids import CubicBSplineGrid2d\n",
    "import tqdm"
   ],
   "metadata": {
    "collapsed": false
   },
   "id": "5aae9e4b8d3ea62e"
  },
  {
   "cell_type": "code",
   "execution_count": null,
   "outputs": [],
   "source": [
    "class HistDataset(Dataset):\n",
    "    def __init__(self, particle_dataset, x_index, y_index, bins):\n",
    "        super().__init__()\n",
    "        self.hist = torch.histogramdd(torch.tensor(particle_dataset.data[:,[x_index, y_index]]), bins=bins)\n",
    "        self.x_len = self.hist[0].size()[0]\n",
    "        self.y_len = self.hist[0].size()[1]\n",
    "    def __getitem__(self, item):\n",
    "        x = np.int32(np.floor(item/self.y_len))\n",
    "        y = np.int32(item - (x*self.y_len))\n",
    "        x_edges = self.hist[1][0][x]\n",
    "        y_edges = self.hist[1][1][y]\n",
    "        return torch.tensor([x_edges.item(), y_edges.item()]), self.hist[0][x,y]\n",
    "    def __len__(self):\n",
    "        return self.x_len * self.y_len"
   ],
   "metadata": {
    "collapsed": false
   },
   "id": "10513252a12c9d7c"
  },
  {
   "cell_type": "code",
   "execution_count": null,
   "id": "initial_id",
   "metadata": {
    "collapsed": true
   },
   "outputs": [],
   "source": [
    "xy_dataset = HistDataset(dataset,0,1, bins = 400)\n",
    "xy_DL = DataLoader(xy_dataset, batch_size=2**6)\n",
    "\n",
    "et_dataset = HistDataset(dataset,5,6,bins = 400)\n",
    "et_DL = DataLoader(et_dataset, batch_size=2**6)\n",
    "\n",
    "rth_dataset = HistDataset(dataset,7,8,bins = 400)\n",
    "rth_DL = DataLoader(rth_dataset, batch_size=2**6)"
   ]
  },
  {
   "cell_type": "code",
   "execution_count": null,
   "outputs": [],
   "source": [
    "net_xy = CubicBSplineGrid2d(resolution=(400,400))\n",
    "net_et = CubicBSplineGrid2d(resolution=(400,400))\n",
    "net_rth = CubicBSplineGrid2d(resolution=(400,400))"
   ],
   "metadata": {
    "collapsed": false
   },
   "id": "bc0bc7356023e303"
  },
  {
   "cell_type": "code",
   "execution_count": null,
   "outputs": [],
   "source": [
    "optimizer_xy = optim.Adam(net_xy.parameters(), lr = 0.01)\n",
    "optimizer_et = optim.Adam(net_et.parameters(), lr = 0.01)\n",
    "optimizer_rth = optim.Adam(net_rth.parameters(), lr = 0.01)"
   ],
   "metadata": {
    "collapsed": false
   },
   "id": "94b0f8f4964978a1"
  },
  {
   "cell_type": "code",
   "execution_count": null,
   "outputs": [],
   "source": [
    "def splineTrain(DL,optimizer,net,num_epochs):\n",
    "    losses=[]\n",
    "    loss_func = nn.MSELoss()\n",
    "    net.to(mps_device)\n",
    "    net.train()\n",
    "    print(\"Starting Training Loop\")\n",
    "    for e in tqdm.tqdm(range(num_epochs)):\n",
    "        iters = 0\n",
    "        avg_item = 0\n",
    "        for item in DL:\n",
    "            net.zero_grad()\n",
    "            pred = net(item[0])\n",
    "            loss = loss_func(pred[:,0],item[1])\n",
    "            loss.backward()\n",
    "            avg_item+=loss.item()\n",
    "            optimizer.step()\n",
    "            iters+=1\n",
    "        losses.append(avg_item/iters)\n",
    "    return losses"
   ],
   "metadata": {
    "collapsed": false
   },
   "id": "d2eb97860592cd24"
  },
  {
   "cell_type": "code",
   "execution_count": null,
   "outputs": [],
   "source": [
    "num_epochs = 100\n",
    "xy_losses = splineTrain(xy_DL,optimizer_xy,net_xy,num_epochs)\n",
    "et_losses =  splineTrain(et_DL,optimizer_et,net_et,num_epochs)\n",
    "rth_losses = splineTrain(rth_DL,optimizer_rth,net_rth,num_epochs)\n",
    "\n",
    "plt.plot(xy_losses)\n",
    "plt.figure()\n",
    "plt.plot(et_losses)\n",
    "plt.figure()\n",
    "plt.plot(rth_losses)"
   ],
   "metadata": {
    "collapsed": false
   },
   "id": "8d3971c45e71786d"
  },
  {
   "cell_type": "code",
   "execution_count": null,
   "outputs": [],
   "source": [
    "x = torch.linspace(0,1,200)\n",
    "y = torch.linspace(0,1,200)\n",
    "net_xy.eval()\n",
    "net_et.eval()\n",
    "net_rth.eval()\n",
    "X,Y = np.meshgrid(x,y)\n",
    "Rxy  = np.zeros([200,200])\n",
    "Ret  = np.zeros([200,200])\n",
    "Rrth = np.zeros([200,200])\n",
    "for i in range(200):\n",
    "    for j in range(200):\n",
    "        Rxy[i,j] = net_xy(torch.tensor([[x[i],y[j]]]))\n",
    "        Ret[i,j] = net_et(torch.tensor([[x[i],y[j]]]))\n",
    "        Rrth[i,j]= net_rth(torch.tensor([[x[i],y[j]]]))\n",
    "plt.pcolormesh(X,Y,np.log10(Rxy))\n",
    "plt.colorbar()\n",
    "plt.figure()\n",
    "plt.pcolormesh(X,Y,np.log10(Ret))\n",
    "plt.colorbar()\n",
    "plt.figure()\n",
    "plt.pcolormesh(X,Y,np.log10(Rrth))\n",
    "plt.colorbar()\n",
    "plt.show()"
   ],
   "metadata": {
    "collapsed": false
   },
   "id": "6cad22906df89b53"
  }
 ],
 "metadata": {
  "kernelspec": {
   "display_name": "Python 3",
   "language": "python",
   "name": "python3"
  },
  "language_info": {
   "codemirror_mode": {
    "name": "ipython",
    "version": 2
   },
   "file_extension": ".py",
   "mimetype": "text/x-python",
   "name": "python",
   "nbconvert_exporter": "python",
   "pygments_lexer": "ipython2",
   "version": "2.7.6"
  }
 },
 "nbformat": 4,
 "nbformat_minor": 5
}
